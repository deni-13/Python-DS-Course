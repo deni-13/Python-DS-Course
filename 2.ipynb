{
 "cells": [
  {
   "cell_type": "code",
   "execution_count": 11,
   "metadata": {},
   "outputs": [],
   "source": [
    "#if else"
   ]
  },
  {
   "cell_type": "code",
   "execution_count": 12,
   "metadata": {},
   "outputs": [
    {
     "name": "stdout",
     "output_type": "stream",
     "text": [
      "yanlıs\n"
     ]
    }
   ],
   "source": [
    "if 3<1:\n",
    "    print(\"dogrudur\")\n",
    "else:\n",
    "    print(\"yanlıs\")"
   ]
  },
  {
   "cell_type": "code",
   "execution_count": 14,
   "metadata": {},
   "outputs": [
    {
     "name": "stdout",
     "output_type": "stream",
     "text": [
      "kuck\n"
     ]
    }
   ],
   "source": [
    "x=3\n",
    "y=5\n",
    "\n",
    "if x>y:\n",
    "    print(\"buyuk\")\n",
    "elif x<y:\n",
    "    print(\"kuck\")\n",
    "else:\n",
    "    print(\"esit\")"
   ]
  },
  {
   "cell_type": "code",
   "execution_count": 18,
   "metadata": {},
   "outputs": [
    {
     "name": "stdout",
     "output_type": "stream",
     "text": [
      "superkahraman secdsf\n"
     ]
    }
   ],
   "source": [
    "#string kontrolu\n",
    "\n",
    "\n",
    "benimHero=input(\"superkahraman sec\")\n",
    "    "
   ]
  },
  {
   "cell_type": "code",
   "execution_count": 19,
   "metadata": {},
   "outputs": [
    {
     "name": "stdout",
     "output_type": "stream",
     "text": [
      "yanlıs\n"
     ]
    }
   ],
   "source": [
    "if benimHero==\"batman\":\n",
    "    print(\"tebrikler\")\n",
    "elif benimHero==\"superman\":\n",
    "    print(\"batmanı secseydin\")\n",
    "elif benimHero==\"ıronman\":\n",
    "    print(\"kim o\")\n",
    "else:\n",
    "    print(\"yanlıs\")"
   ]
  },
  {
   "cell_type": "code",
   "execution_count": 22,
   "metadata": {},
   "outputs": [],
   "source": [
    "a=10\n",
    "b=20\n",
    "c=30"
   ]
  },
  {
   "cell_type": "code",
   "execution_count": 28,
   "metadata": {},
   "outputs": [
    {
     "name": "stdout",
     "output_type": "stream",
     "text": [
      "a bden kucuk b cden kucuk\n"
     ]
    }
   ],
   "source": [
    "if a>b and b>c :\n",
    "    print(\"a bden büyük ve b de cden büyük\")\n",
    "elif a<b and b<c :\n",
    "    print(\"a bden kucuk b cden kucuk\")\n",
    "else:\n",
    "    print(\"diger\")"
   ]
  },
  {
   "cell_type": "code",
   "execution_count": 30,
   "metadata": {},
   "outputs": [],
   "source": [
    "karakterCanlı =False"
   ]
  },
  {
   "cell_type": "code",
   "execution_count": 31,
   "metadata": {},
   "outputs": [
    {
     "name": "stdout",
     "output_type": "stream",
     "text": [
      "olü\n"
     ]
    }
   ],
   "source": [
    "if karakterCanlı==True:\n",
    "    print(\"canlı\")\n",
    "else:\n",
    "    print(\"olü\")\n"
   ]
  },
  {
   "cell_type": "code",
   "execution_count": 32,
   "metadata": {},
   "outputs": [],
   "source": [
    "#booleansız if /else kullanadabniliriz anlıyor program"
   ]
  },
  {
   "cell_type": "code",
   "execution_count": 33,
   "metadata": {},
   "outputs": [],
   "source": [
    "str=\"istanbul\""
   ]
  },
  {
   "cell_type": "code",
   "execution_count": 34,
   "metadata": {},
   "outputs": [
    {
     "name": "stdout",
     "output_type": "stream",
     "text": [
      "var\n"
     ]
    }
   ],
   "source": [
    "if \"i\" in str:\n",
    "    print(\"var\")\n",
    "else:\n",
    "    print(\"yok kanka\")"
   ]
  },
  {
   "cell_type": "code",
   "execution_count": 35,
   "metadata": {},
   "outputs": [],
   "source": [
    "listem=[19,34,89,4,6,833]"
   ]
  },
  {
   "cell_type": "code",
   "execution_count": 36,
   "metadata": {},
   "outputs": [
    {
     "name": "stdout",
     "output_type": "stream",
     "text": [
      "yok\n"
     ]
    }
   ],
   "source": [
    "if 7 in listem:\n",
    "    print(\"var\")\n",
    "else:\n",
    "    print(\"yok\")"
   ]
  },
  {
   "cell_type": "code",
   "execution_count": 37,
   "metadata": {},
   "outputs": [],
   "source": [
    "benimSzlk={\"muz\":50,\"elma\":70}"
   ]
  },
  {
   "cell_type": "code",
   "execution_count": 41,
   "metadata": {},
   "outputs": [
    {
     "name": "stdout",
     "output_type": "stream",
     "text": [
      "var\n"
     ]
    }
   ],
   "source": [
    "if \"muz\" in benimSzlk.keys():\n",
    "    print(\"var\")\n",
    "else: \n",
    "    print(\"yok\")"
   ]
  },
  {
   "cell_type": "code",
   "execution_count": 3,
   "metadata": {},
   "outputs": [],
   "source": [
    "#for"
   ]
  },
  {
   "cell_type": "code",
   "execution_count": 44,
   "metadata": {},
   "outputs": [],
   "source": [
    "lis=[22132,1,23,4,6,78]"
   ]
  },
  {
   "cell_type": "code",
   "execution_count": 45,
   "metadata": {},
   "outputs": [
    {
     "data": {
      "text/plain": [
       "5533.0"
      ]
     },
     "execution_count": 45,
     "metadata": {},
     "output_type": "execute_result"
    }
   ],
   "source": [
    "lis[0]/4"
   ]
  },
  {
   "cell_type": "code",
   "execution_count": 49,
   "metadata": {},
   "outputs": [
    {
     "name": "stdout",
     "output_type": "stream",
     "text": [
      "5533.0\n",
      "0.25\n",
      "5.75\n",
      "1.0\n",
      "1.5\n",
      "19.5\n",
      "bitti\n"
     ]
    }
   ],
   "source": [
    "for a in lis:\n",
    "    print(a/4)  #her eleman aslında a'yı herdefasında basıyoz\n",
    "print(\"bitti\")"
   ]
  },
  {
   "cell_type": "code",
   "execution_count": 52,
   "metadata": {},
   "outputs": [
    {
     "name": "stdout",
     "output_type": "stream",
     "text": [
      "36886.666666666664\n",
      "1.6666666666666667\n",
      "38.333333333333336\n",
      "6.666666666666667\n",
      "10.0\n",
      "130.0\n"
     ]
    }
   ],
   "source": [
    "for num in lis:\n",
    "    yeni =num*5/3\n",
    "    print(yeni)"
   ]
  },
  {
   "cell_type": "code",
   "execution_count": 53,
   "metadata": {},
   "outputs": [],
   "source": [
    "yeni =[1,2,3,5]"
   ]
  },
  {
   "cell_type": "code",
   "execution_count": 55,
   "metadata": {},
   "outputs": [
    {
     "name": "stdout",
     "output_type": "stream",
     "text": [
      "yok\n",
      "2\n",
      "yok\n",
      "yok\n"
     ]
    }
   ],
   "source": [
    "for i in yeni:\n",
    "    if i%2==0:\n",
    "        print(i)\n",
    "    else:\n",
    "        print(\"yok\")"
   ]
  },
  {
   "cell_type": "code",
   "execution_count": 56,
   "metadata": {},
   "outputs": [],
   "source": [
    "yenistr=\"istanbuluniversitesi\""
   ]
  },
  {
   "cell_type": "code",
   "execution_count": 57,
   "metadata": {},
   "outputs": [
    {
     "name": "stdout",
     "output_type": "stream",
     "text": [
      "i\n",
      "s\n",
      "t\n",
      "a\n",
      "n\n",
      "b\n",
      "u\n",
      "l\n",
      "u\n",
      "n\n",
      "i\n",
      "v\n",
      "e\n",
      "r\n",
      "s\n",
      "i\n",
      "t\n",
      "e\n",
      "s\n",
      "i\n"
     ]
    }
   ],
   "source": [
    "for harf in yenistr:\n",
    "    print(harf)"
   ]
  },
  {
   "cell_type": "code",
   "execution_count": 58,
   "metadata": {},
   "outputs": [
    {
     "name": "stdout",
     "output_type": "stream",
     "text": [
      "2329\n",
      "62\n",
      "229\n",
      "-12\n"
     ]
    }
   ],
   "source": [
    "benimTuple=(2343,76,243,2)\n",
    "for a in benimTuple:\n",
    "    print(a-14)"
   ]
  },
  {
   "cell_type": "code",
   "execution_count": 59,
   "metadata": {},
   "outputs": [],
   "source": [
    "#continue /pass"
   ]
  },
  {
   "cell_type": "code",
   "execution_count": 60,
   "metadata": {},
   "outputs": [],
   "source": [
    "listem=[1,2,56,8,4,3]"
   ]
  },
  {
   "cell_type": "code",
   "execution_count": 61,
   "metadata": {},
   "outputs": [
    {
     "name": "stdout",
     "output_type": "stream",
     "text": [
      "1\n"
     ]
    }
   ],
   "source": [
    "for a in listem:\n",
    "    if a==2:\n",
    "        break\n",
    "    print(a)"
   ]
  },
  {
   "cell_type": "code",
   "execution_count": 62,
   "metadata": {},
   "outputs": [
    {
     "name": "stdout",
     "output_type": "stream",
     "text": [
      "1\n",
      "56\n",
      "8\n",
      "4\n",
      "3\n"
     ]
    }
   ],
   "source": [
    "for a in listem:\n",
    "    if a==2:\n",
    "        continue\n",
    "    print(a)"
   ]
  },
  {
   "cell_type": "code",
   "execution_count": 2,
   "metadata": {},
   "outputs": [],
   "source": [
    "#while"
   ]
  },
  {
   "cell_type": "code",
   "execution_count": 68,
   "metadata": {},
   "outputs": [
    {
     "name": "stdout",
     "output_type": "stream",
     "text": [
      "merhaba\n",
      "merhaba\n",
      "merhaba\n",
      "merhaba\n",
      "merhaba\n",
      "merhaba\n",
      "merhaba\n",
      "merhaba\n",
      "merhaba\n",
      "merhaba\n"
     ]
    }
   ],
   "source": [
    "x= 0\n",
    "while x<10:\n",
    "    print(\"merhaba\")\n",
    "    x+=1"
   ]
  },
  {
   "cell_type": "code",
   "execution_count": 69,
   "metadata": {},
   "outputs": [],
   "source": [
    "lit=[1,2,3,4]"
   ]
  },
  {
   "cell_type": "code",
   "execution_count": 71,
   "metadata": {},
   "outputs": [],
   "source": [
    "lit.append(7)"
   ]
  },
  {
   "cell_type": "code",
   "execution_count": 72,
   "metadata": {},
   "outputs": [
    {
     "name": "stdout",
     "output_type": "stream",
     "text": [
      "burdasın\n",
      "burdasın\n",
      "burdasın\n"
     ]
    }
   ],
   "source": [
    "while 3 in lit:\n",
    "    print(\"burdasın\")\n",
    "    lit.pop()"
   ]
  },
  {
   "cell_type": "code",
   "execution_count": 74,
   "metadata": {},
   "outputs": [
    {
     "name": "stdout",
     "output_type": "stream",
     "text": [
      "0\n",
      "1\n",
      "2\n",
      "3\n"
     ]
    }
   ],
   "source": [
    "num=0\n",
    "while num<5:\n",
    "    if num ==4:\n",
    "        break\n",
    "    print(num)\n",
    "    num+=1"
   ]
  },
  {
   "cell_type": "markdown",
   "metadata": {},
   "source": [
    "## random"
   ]
  },
  {
   "cell_type": "code",
   "execution_count": 75,
   "metadata": {},
   "outputs": [],
   "source": [
    "from random import randint"
   ]
  },
  {
   "cell_type": "code",
   "execution_count": 76,
   "metadata": {},
   "outputs": [
    {
     "data": {
      "text/plain": [
       "45"
      ]
     },
     "execution_count": 76,
     "metadata": {},
     "output_type": "execute_result"
    }
   ],
   "source": [
    "randint(0,100)"
   ]
  },
  {
   "cell_type": "code",
   "execution_count": 77,
   "metadata": {},
   "outputs": [],
   "source": [
    "#range"
   ]
  },
  {
   "cell_type": "code",
   "execution_count": 80,
   "metadata": {},
   "outputs": [],
   "source": [
    "yenilist=list(range(0,5))"
   ]
  },
  {
   "cell_type": "code",
   "execution_count": 81,
   "metadata": {},
   "outputs": [
    {
     "data": {
      "text/plain": [
       "[0, 1, 2, 3, 4]"
      ]
     },
     "execution_count": 81,
     "metadata": {},
     "output_type": "execute_result"
    }
   ],
   "source": [
    "yenilist"
   ]
  },
  {
   "cell_type": "code",
   "execution_count": 85,
   "metadata": {},
   "outputs": [
    {
     "name": "stdout",
     "output_type": "stream",
     "text": [
      "0\n",
      "2\n",
      "4\n",
      "6\n",
      "8\n"
     ]
    }
   ],
   "source": [
    "for i in range(0,9):  #range\n",
    "    if i %2==0:\n",
    "        print(i)"
   ]
  }
 ],
 "metadata": {
  "kernelspec": {
   "display_name": "Python 3",
   "language": "python",
   "name": "python3"
  },
  "language_info": {
   "codemirror_mode": {
    "name": "ipython",
    "version": 3
   },
   "file_extension": ".py",
   "mimetype": "text/x-python",
   "name": "python",
   "nbconvert_exporter": "python",
   "pygments_lexer": "ipython3",
   "version": "3.8.5"
  }
 },
 "nbformat": 4,
 "nbformat_minor": 4
}
